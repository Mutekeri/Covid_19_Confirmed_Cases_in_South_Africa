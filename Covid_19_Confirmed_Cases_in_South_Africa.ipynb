{
  "nbformat": 4,
  "nbformat_minor": 0,
  "metadata": {
    "kernelspec": {
      "display_name": "Python 3",
      "language": "python",
      "name": "python3"
    },
    "language_info": {
      "codemirror_mode": {
        "name": "ipython",
        "version": 3
      },
      "file_extension": ".py",
      "mimetype": "text/x-python",
      "name": "python",
      "nbconvert_exporter": "python",
      "pygments_lexer": "ipython3",
      "version": "3.7.5"
    },
    "colab": {
      "name": "Covid_19_Confirmed_Cases_in_South_Africa.ipynb",
      "provenance": [],
      "collapsed_sections": [],
      "include_colab_link": true
    }
  },
  "cells": [
    {
      "cell_type": "markdown",
      "metadata": {
        "id": "view-in-github",
        "colab_type": "text"
      },
      "source": [
        "<a href=\"https://colab.research.google.com/github/Mutekeri/Covid_19_Confirmed_Cases_in_South_Africa/blob/master/Covid_19_Confirmed_Cases_in_South_Africa.ipynb\" target=\"_parent\"><img src=\"https://colab.research.google.com/assets/colab-badge.svg\" alt=\"Open In Colab\"/></a>"
      ]
    },
    {
      "cell_type": "code",
      "metadata": {
        "id": "oNpfiXz9aEAb",
        "colab_type": "code",
        "colab": {
          "base_uri": "https://localhost:8080/",
          "height": 938
        },
        "outputId": "3625032d-27f3-442b-d06d-db83001d4f91"
      },
      "source": [
        "!pip install tensorflow==2.0.0"
      ],
      "execution_count": 1,
      "outputs": [
        {
          "output_type": "stream",
          "text": [
            "Collecting tensorflow==2.0.0\n",
            "\u001b[?25l  Downloading https://files.pythonhosted.org/packages/46/0f/7bd55361168bb32796b360ad15a25de6966c9c1beb58a8e30c01c8279862/tensorflow-2.0.0-cp36-cp36m-manylinux2010_x86_64.whl (86.3MB)\n",
            "\u001b[K     |████████████████████████████████| 86.3MB 47kB/s \n",
            "\u001b[?25hRequirement already satisfied: gast==0.2.2 in /usr/local/lib/python3.6/dist-packages (from tensorflow==2.0.0) (0.2.2)\n",
            "Requirement already satisfied: astor>=0.6.0 in /usr/local/lib/python3.6/dist-packages (from tensorflow==2.0.0) (0.8.1)\n",
            "Requirement already satisfied: absl-py>=0.7.0 in /usr/local/lib/python3.6/dist-packages (from tensorflow==2.0.0) (0.9.0)\n",
            "Requirement already satisfied: keras-preprocessing>=1.0.5 in /usr/local/lib/python3.6/dist-packages (from tensorflow==2.0.0) (1.1.0)\n",
            "Requirement already satisfied: google-pasta>=0.1.6 in /usr/local/lib/python3.6/dist-packages (from tensorflow==2.0.0) (0.2.0)\n",
            "Requirement already satisfied: numpy<2.0,>=1.16.0 in /usr/local/lib/python3.6/dist-packages (from tensorflow==2.0.0) (1.18.2)\n",
            "Requirement already satisfied: protobuf>=3.6.1 in /usr/local/lib/python3.6/dist-packages (from tensorflow==2.0.0) (3.10.0)\n",
            "Collecting tensorboard<2.1.0,>=2.0.0\n",
            "\u001b[?25l  Downloading https://files.pythonhosted.org/packages/76/54/99b9d5d52d5cb732f099baaaf7740403e83fe6b0cedde940fabd2b13d75a/tensorboard-2.0.2-py3-none-any.whl (3.8MB)\n",
            "\u001b[K     |████████████████████████████████| 3.8MB 47.4MB/s \n",
            "\u001b[?25hRequirement already satisfied: opt-einsum>=2.3.2 in /usr/local/lib/python3.6/dist-packages (from tensorflow==2.0.0) (3.2.0)\n",
            "Requirement already satisfied: wheel>=0.26 in /usr/local/lib/python3.6/dist-packages (from tensorflow==2.0.0) (0.34.2)\n",
            "Requirement already satisfied: six>=1.10.0 in /usr/local/lib/python3.6/dist-packages (from tensorflow==2.0.0) (1.12.0)\n",
            "Requirement already satisfied: grpcio>=1.8.6 in /usr/local/lib/python3.6/dist-packages (from tensorflow==2.0.0) (1.24.3)\n",
            "Requirement already satisfied: wrapt>=1.11.1 in /usr/local/lib/python3.6/dist-packages (from tensorflow==2.0.0) (1.12.1)\n",
            "Requirement already satisfied: keras-applications>=1.0.8 in /usr/local/lib/python3.6/dist-packages (from tensorflow==2.0.0) (1.0.8)\n",
            "Collecting tensorflow-estimator<2.1.0,>=2.0.0\n",
            "\u001b[?25l  Downloading https://files.pythonhosted.org/packages/fc/08/8b927337b7019c374719145d1dceba21a8bb909b93b1ad6f8fb7d22c1ca1/tensorflow_estimator-2.0.1-py2.py3-none-any.whl (449kB)\n",
            "\u001b[K     |████████████████████████████████| 450kB 35.8MB/s \n",
            "\u001b[?25hRequirement already satisfied: termcolor>=1.1.0 in /usr/local/lib/python3.6/dist-packages (from tensorflow==2.0.0) (1.1.0)\n",
            "Requirement already satisfied: setuptools in /usr/local/lib/python3.6/dist-packages (from protobuf>=3.6.1->tensorflow==2.0.0) (46.0.0)\n",
            "Requirement already satisfied: requests<3,>=2.21.0 in /usr/local/lib/python3.6/dist-packages (from tensorboard<2.1.0,>=2.0.0->tensorflow==2.0.0) (2.21.0)\n",
            "Requirement already satisfied: google-auth<2,>=1.6.3 in /usr/local/lib/python3.6/dist-packages (from tensorboard<2.1.0,>=2.0.0->tensorflow==2.0.0) (1.7.2)\n",
            "Requirement already satisfied: werkzeug>=0.11.15 in /usr/local/lib/python3.6/dist-packages (from tensorboard<2.1.0,>=2.0.0->tensorflow==2.0.0) (1.0.0)\n",
            "Requirement already satisfied: google-auth-oauthlib<0.5,>=0.4.1 in /usr/local/lib/python3.6/dist-packages (from tensorboard<2.1.0,>=2.0.0->tensorflow==2.0.0) (0.4.1)\n",
            "Requirement already satisfied: markdown>=2.6.8 in /usr/local/lib/python3.6/dist-packages (from tensorboard<2.1.0,>=2.0.0->tensorflow==2.0.0) (3.2.1)\n",
            "Requirement already satisfied: h5py in /usr/local/lib/python3.6/dist-packages (from keras-applications>=1.0.8->tensorflow==2.0.0) (2.8.0)\n",
            "Requirement already satisfied: idna<2.9,>=2.5 in /usr/local/lib/python3.6/dist-packages (from requests<3,>=2.21.0->tensorboard<2.1.0,>=2.0.0->tensorflow==2.0.0) (2.8)\n",
            "Requirement already satisfied: urllib3<1.25,>=1.21.1 in /usr/local/lib/python3.6/dist-packages (from requests<3,>=2.21.0->tensorboard<2.1.0,>=2.0.0->tensorflow==2.0.0) (1.24.3)\n",
            "Requirement already satisfied: chardet<3.1.0,>=3.0.2 in /usr/local/lib/python3.6/dist-packages (from requests<3,>=2.21.0->tensorboard<2.1.0,>=2.0.0->tensorflow==2.0.0) (3.0.4)\n",
            "Requirement already satisfied: certifi>=2017.4.17 in /usr/local/lib/python3.6/dist-packages (from requests<3,>=2.21.0->tensorboard<2.1.0,>=2.0.0->tensorflow==2.0.0) (2019.11.28)\n",
            "Requirement already satisfied: rsa<4.1,>=3.1.4 in /usr/local/lib/python3.6/dist-packages (from google-auth<2,>=1.6.3->tensorboard<2.1.0,>=2.0.0->tensorflow==2.0.0) (4.0)\n",
            "Requirement already satisfied: pyasn1-modules>=0.2.1 in /usr/local/lib/python3.6/dist-packages (from google-auth<2,>=1.6.3->tensorboard<2.1.0,>=2.0.0->tensorflow==2.0.0) (0.2.8)\n",
            "Requirement already satisfied: cachetools<3.2,>=2.0.0 in /usr/local/lib/python3.6/dist-packages (from google-auth<2,>=1.6.3->tensorboard<2.1.0,>=2.0.0->tensorflow==2.0.0) (3.1.1)\n",
            "Requirement already satisfied: requests-oauthlib>=0.7.0 in /usr/local/lib/python3.6/dist-packages (from google-auth-oauthlib<0.5,>=0.4.1->tensorboard<2.1.0,>=2.0.0->tensorflow==2.0.0) (1.3.0)\n",
            "Requirement already satisfied: pyasn1>=0.1.3 in /usr/local/lib/python3.6/dist-packages (from rsa<4.1,>=3.1.4->google-auth<2,>=1.6.3->tensorboard<2.1.0,>=2.0.0->tensorflow==2.0.0) (0.4.8)\n",
            "Requirement already satisfied: oauthlib>=3.0.0 in /usr/local/lib/python3.6/dist-packages (from requests-oauthlib>=0.7.0->google-auth-oauthlib<0.5,>=0.4.1->tensorboard<2.1.0,>=2.0.0->tensorflow==2.0.0) (3.1.0)\n",
            "\u001b[31mERROR: tensorflow-federated 0.12.0 has requirement tensorflow~=2.1.0, but you'll have tensorflow 2.0.0 which is incompatible.\u001b[0m\n",
            "\u001b[31mERROR: tensorflow-federated 0.12.0 has requirement tensorflow-addons~=0.7.0, but you'll have tensorflow-addons 0.8.3 which is incompatible.\u001b[0m\n",
            "Installing collected packages: tensorboard, tensorflow-estimator, tensorflow\n",
            "  Found existing installation: tensorboard 1.15.0\n",
            "    Uninstalling tensorboard-1.15.0:\n",
            "      Successfully uninstalled tensorboard-1.15.0\n",
            "  Found existing installation: tensorflow-estimator 1.15.1\n",
            "    Uninstalling tensorflow-estimator-1.15.1:\n",
            "      Successfully uninstalled tensorflow-estimator-1.15.1\n",
            "  Found existing installation: tensorflow 1.15.0\n",
            "    Uninstalling tensorflow-1.15.0:\n",
            "      Successfully uninstalled tensorflow-1.15.0\n",
            "Successfully installed tensorboard-2.1.1 tensorflow-2.1.0 tensorflow-estimator-2.1.0\n"
          ],
          "name": "stdout"
        }
      ]
    },
    {
      "cell_type": "code",
      "metadata": {
        "id": "LaXBtcRWaEAl",
        "colab_type": "code",
        "colab": {
          "base_uri": "https://localhost:8080/",
          "height": 34
        },
        "outputId": "cf2ec14e-d033-4543-eea0-a3c6e1714489"
      },
      "source": [
        "import tensorflow as tf\n",
        "print(tf.__version__)"
      ],
      "execution_count": 2,
      "outputs": [
        {
          "output_type": "stream",
          "text": [
            "2.0.0\n"
          ],
          "name": "stdout"
        }
      ]
    },
    {
      "cell_type": "code",
      "metadata": {
        "id": "KSV4iTbiaEAt",
        "colab_type": "code",
        "colab": {}
      },
      "source": [
        "import numpy as np\n",
        "import matplotlib.pyplot as plt\n",
        "def plot_series(time, series, format=\"-\", start=0, end=None):\n",
        "    plt.plot(time[start:end], series[start:end], format)\n",
        "    plt.xlabel(\"Time\")\n",
        "    plt.ylabel(\"Value\")\n",
        "    plt.grid(True)"
      ],
      "execution_count": 0,
      "outputs": []
    },
    {
      "cell_type": "code",
      "metadata": {
        "id": "mdsbd-_Fb9Zb",
        "colab_type": "code",
        "colab": {
          "resources": {
            "http://localhost:8080/nbextensions/google.colab/files.js": {
              "data": "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",
              "ok": true,
              "headers": [
                [
                  "content-type",
                  "application/javascript"
                ]
              ],
              "status": 200,
              "status_text": ""
            }
          },
          "base_uri": "https://localhost:8080/",
          "height": 74
        },
        "outputId": "812a61a6-fa77-49e5-b4dd-882686c0859e"
      },
      "source": [
        "from google.colab import files\n",
        "def getLocalFiles():\n",
        "    _files = files.upload()\n",
        "    if len(_files) >0:\n",
        "       for k,v in _files.items():\n",
        "         open(k,'wb').write(v)\n",
        "getLocalFiles()"
      ],
      "execution_count": 9,
      "outputs": [
        {
          "output_type": "display_data",
          "data": {
            "text/html": [
              "\n",
              "     <input type=\"file\" id=\"files-a7a3b723-61a1-4b16-9896-9e19eaf5f64e\" name=\"files[]\" multiple disabled />\n",
              "     <output id=\"result-a7a3b723-61a1-4b16-9896-9e19eaf5f64e\">\n",
              "      Upload widget is only available when the cell has been executed in the\n",
              "      current browser session. Please rerun this cell to enable.\n",
              "      </output>\n",
              "      <script src=\"/nbextensions/google.colab/files.js\"></script> "
            ],
            "text/plain": [
              "<IPython.core.display.HTML object>"
            ]
          },
          "metadata": {
            "tags": []
          }
        },
        {
          "output_type": "stream",
          "text": [
            "Saving South_Africa_COVID_19.csv to South_Africa_COVID_19 (1).csv\n"
          ],
          "name": "stdout"
        }
      ]
    },
    {
      "cell_type": "code",
      "metadata": {
        "id": "9g7wIe1saEA0",
        "colab_type": "code",
        "colab": {
          "base_uri": "https://localhost:8080/",
          "height": 204
        },
        "outputId": "dbfd4522-2bd5-4413-864e-5c64b9bcbe7d"
      },
      "source": [
        "import pandas as pd\n",
        "data=pd.read_csv(r'South_Africa_COVID_19.csv')\n",
        "data.head()"
      ],
      "execution_count": 10,
      "outputs": [
        {
          "output_type": "execute_result",
          "data": {
            "text/html": [
              "<div>\n",
              "<style scoped>\n",
              "    .dataframe tbody tr th:only-of-type {\n",
              "        vertical-align: middle;\n",
              "    }\n",
              "\n",
              "    .dataframe tbody tr th {\n",
              "        vertical-align: top;\n",
              "    }\n",
              "\n",
              "    .dataframe thead th {\n",
              "        text-align: right;\n",
              "    }\n",
              "</style>\n",
              "<table border=\"1\" class=\"dataframe\">\n",
              "  <thead>\n",
              "    <tr style=\"text-align: right;\">\n",
              "      <th></th>\n",
              "      <th>Date</th>\n",
              "      <th>South Africa Cases</th>\n",
              "    </tr>\n",
              "  </thead>\n",
              "  <tbody>\n",
              "    <tr>\n",
              "      <th>0</th>\n",
              "      <td>3/1/2020</td>\n",
              "      <td>0</td>\n",
              "    </tr>\n",
              "    <tr>\n",
              "      <th>1</th>\n",
              "      <td>3/2/2020</td>\n",
              "      <td>0</td>\n",
              "    </tr>\n",
              "    <tr>\n",
              "      <th>2</th>\n",
              "      <td>3/3/2020</td>\n",
              "      <td>0</td>\n",
              "    </tr>\n",
              "    <tr>\n",
              "      <th>3</th>\n",
              "      <td>3/4/2020</td>\n",
              "      <td>0</td>\n",
              "    </tr>\n",
              "    <tr>\n",
              "      <th>4</th>\n",
              "      <td>3/5/2020</td>\n",
              "      <td>1</td>\n",
              "    </tr>\n",
              "  </tbody>\n",
              "</table>\n",
              "</div>"
            ],
            "text/plain": [
              "       Date  South Africa Cases\n",
              "0  3/1/2020                   0\n",
              "1  3/2/2020                   0\n",
              "2  3/3/2020                   0\n",
              "3  3/4/2020                   0\n",
              "4  3/5/2020                   1"
            ]
          },
          "metadata": {
            "tags": []
          },
          "execution_count": 10
        }
      ]
    },
    {
      "cell_type": "code",
      "metadata": {
        "id": "X1ueGPKaaEA9",
        "colab_type": "code",
        "colab": {
          "base_uri": "https://localhost:8080/",
          "height": 388
        },
        "outputId": "a6fa56f1-7fc1-4901-da2c-a4a2e6420977"
      },
      "source": [
        "import csv\n",
        "time_step = []\n",
        "temps = []\n",
        "\n",
        "with open(r'South_Africa_COVID_19.csv') as csvfile:\n",
        "  reader = csv.reader(csvfile, delimiter=',')\n",
        "  next(reader)\n",
        "  step=0\n",
        "  for row in reader:\n",
        "    temps.append(float(row[1]))\n",
        "    time_step.append(step)\n",
        "    step = step + 1\n",
        "\n",
        "series = np.array(temps)\n",
        "time = np.array(time_step)\n",
        "plt.figure(figsize=(10, 6))\n",
        "plot_series(time, series)"
      ],
      "execution_count": 11,
      "outputs": [
        {
          "output_type": "display_data",
          "data": {
            "image/png": "[encoded data removed]",
            "text/plain": [
              "<Figure size 720x432 with 1 Axes>"
            ]
          },
          "metadata": {
            "tags": []
          }
        }
      ]
    },
    {
      "cell_type": "code",
      "metadata": {
        "id": "UbQhk4moaEBD",
        "colab_type": "code",
        "colab": {}
      },
      "source": [
        "split_time = 17\n",
        "time_train = time[:split_time]\n",
        "x_train = series[:split_time]\n",
        "time_valid = time[split_time:]\n",
        "x_valid = series[split_time:]\n",
        "\n",
        "window_size = 2\n",
        "batch_size = 4\n",
        "shuffle_buffer_size = 5"
      ],
      "execution_count": 0,
      "outputs": []
    },
    {
      "cell_type": "code",
      "metadata": {
        "id": "vGkca_HWaEBH",
        "colab_type": "code",
        "colab": {}
      },
      "source": [
        "def windowed_dataset(series, window_size, batch_size, shuffle_buffer):\n",
        "    series = tf.expand_dims(series, axis=-1)\n",
        "    ds = tf.data.Dataset.from_tensor_slices(series)\n",
        "    ds = ds.window(window_size + 1, shift=1, drop_remainder=True)\n",
        "    ds = ds.flat_map(lambda w: w.batch(window_size + 1))\n",
        "    ds = ds.shuffle(shuffle_buffer)\n",
        "    ds = ds.map(lambda w: (w[:-1], w[1:]))\n",
        "    return ds.batch(batch_size).prefetch(1)"
      ],
      "execution_count": 0,
      "outputs": []
    },
    {
      "cell_type": "code",
      "metadata": {
        "id": "jWXCLy1-aEBL",
        "colab_type": "code",
        "colab": {}
      },
      "source": [
        "def model_forecast(model, series, window_size):\n",
        "    ds = tf.data.Dataset.from_tensor_slices(series)\n",
        "    ds = ds.window(window_size, shift=1, drop_remainder=True)\n",
        "    ds = ds.flat_map(lambda w: w.batch(window_size))\n",
        "    ds = ds.batch(4).prefetch(1)\n",
        "    forecast = model.predict(ds)\n",
        "    return forecast"
      ],
      "execution_count": 0,
      "outputs": []
    },
    {
      "cell_type": "code",
      "metadata": {
        "id": "PrpRbQq1aEBO",
        "colab_type": "code",
        "colab": {
          "base_uri": "https://localhost:8080/",
          "height": 1000
        },
        "outputId": "bd68f343-6661-4c2f-b40b-81f5ba147cbf"
      },
      "source": [
        "tf.keras.backend.clear_session()\n",
        "tf.random.set_seed(3)\n",
        "np.random.seed(3)\n",
        "window_size = 4\n",
        "batch_size = 16\n",
        "train_set = windowed_dataset(x_train, window_size, batch_size, shuffle_buffer_size)\n",
        "print(train_set)\n",
        "print(x_train.shape)\n",
        "\n",
        "model = tf.keras.models.Sequential([\n",
        "  tf.keras.layers.Conv1D(filters=32, kernel_size=5,\n",
        "                      strides=1, padding=\"causal\",\n",
        "                      activation=\"relu\",\n",
        "                      input_shape=[None, 1]),\n",
        "  tf.keras.layers.LSTM(64, return_sequences=True),\n",
        "  tf.keras.layers.LSTM(64, return_sequences=True),\n",
        "  tf.keras.layers.Dense(30, activation=\"relu\"),\n",
        "  tf.keras.layers.Dense(10, activation=\"relu\"),\n",
        "  tf.keras.layers.Dense(1),\n",
        "  tf.keras.layers.Lambda(lambda x: x * 400)\n",
        "])\n",
        "\n",
        "lr_schedule = tf.keras.callbacks.LearningRateScheduler(\n",
        "    lambda epoch: 1e-8 * 10**(epoch / 20))\n",
        "optimizer = tf.keras.optimizers.SGD(lr=1e-8, momentum=0.9)\n",
        "model.compile(loss=tf.keras.losses.Huber(),\n",
        "              optimizer=optimizer,\n",
        "              metrics=[\"mae\"])\n",
        "history = model.fit(train_set, epochs=100, callbacks=[lr_schedule])"
      ],
      "execution_count": 16,
      "outputs": [
        {
          "output_type": "stream",
          "text": [
            "<PrefetchDataset shapes: ((None, None, 1), (None, None, 1)), types: (tf.float64, tf.float64)>\n",
            "(17,)\n",
            "Epoch 1/100\n",
            "1/1 [==============================] - 3s 3s/step - loss: 5.2537 - mae: 5.6525\n",
            "Epoch 2/100\n",
            "1/1 [==============================] - 0s 27ms/step - loss: 5.2536 - mae: 5.6524\n",
            "Epoch 3/100\n",
            "1/1 [==============================] - 0s 25ms/step - loss: 5.2534 - mae: 5.6522\n",
            "Epoch 4/100\n",
            "1/1 [==============================] - 0s 30ms/step - loss: 5.2530 - mae: 5.6519\n",
            "Epoch 5/100\n",
            "1/1 [==============================] - 0s 27ms/step - loss: 5.2525 - mae: 5.6514\n",
            "Epoch 6/100\n",
            "1/1 [==============================] - 0s 28ms/step - loss: 5.2519 - mae: 5.6509\n",
            "Epoch 7/100\n",
            "1/1 [==============================] - 0s 31ms/step - loss: 5.2511 - mae: 5.6502\n",
            "Epoch 8/100\n",
            "1/1 [==============================] - 0s 33ms/step - loss: 5.2501 - mae: 5.6494\n",
            "Epoch 9/100\n",
            "1/1 [==============================] - 0s 32ms/step - loss: 5.2490 - mae: 5.6484\n",
            "Epoch 10/100\n",
            "1/1 [==============================] - 0s 30ms/step - loss: 5.2477 - mae: 5.6473\n",
            "Epoch 11/100\n",
            "1/1 [==============================] - 0s 33ms/step - loss: 5.2462 - mae: 5.6460\n",
            "Epoch 12/100\n",
            "1/1 [==============================] - 0s 37ms/step - loss: 5.2445 - mae: 5.6447\n",
            "Epoch 13/100\n",
            "1/1 [==============================] - 0s 34ms/step - loss: 5.2425 - mae: 5.6432\n",
            "Epoch 14/100\n",
            "1/1 [==============================] - 0s 31ms/step - loss: 5.2403 - mae: 5.6414\n",
            "Epoch 15/100\n",
            "1/1 [==============================] - 0s 29ms/step - loss: 5.2379 - mae: 5.6395\n",
            "Epoch 16/100\n",
            "1/1 [==============================] - 0s 30ms/step - loss: 5.2352 - mae: 5.6373\n",
            "Epoch 17/100\n",
            "1/1 [==============================] - 0s 29ms/step - loss: 5.2321 - mae: 5.6349\n",
            "Epoch 18/100\n",
            "1/1 [==============================] - 0s 31ms/step - loss: 5.2287 - mae: 5.6321\n",
            "Epoch 19/100\n",
            "1/1 [==============================] - 0s 30ms/step - loss: 5.2248 - mae: 5.6290\n",
            "Epoch 20/100\n",
            "1/1 [==============================] - 0s 32ms/step - loss: 5.2205 - mae: 5.6255\n",
            "Epoch 21/100\n",
            "1/1 [==============================] - 0s 35ms/step - loss: 5.2157 - mae: 5.6216\n",
            "Epoch 22/100\n",
            "1/1 [==============================] - 0s 33ms/step - loss: 5.2104 - mae: 5.6173\n",
            "Epoch 23/100\n",
            "1/1 [==============================] - 0s 40ms/step - loss: 5.2044 - mae: 5.6124\n",
            "Epoch 24/100\n",
            "1/1 [==============================] - 0s 29ms/step - loss: 5.1979 - mae: 5.6070\n",
            "Epoch 25/100\n",
            "1/1 [==============================] - 0s 33ms/step - loss: 5.1908 - mae: 5.6012\n",
            "Epoch 26/100\n",
            "1/1 [==============================] - 0s 33ms/step - loss: 5.1829 - mae: 5.5947\n",
            "Epoch 27/100\n",
            "1/1 [==============================] - 0s 33ms/step - loss: 5.1743 - mae: 5.5878\n",
            "Epoch 28/100\n",
            "1/1 [==============================] - 0s 34ms/step - loss: 5.1648 - mae: 5.5800\n",
            "Epoch 29/100\n",
            "1/1 [==============================] - 0s 26ms/step - loss: 5.1543 - mae: 5.5712\n",
            "Epoch 30/100\n",
            "1/1 [==============================] - 0s 33ms/step - loss: 5.1426 - mae: 5.5614\n",
            "Epoch 31/100\n",
            "1/1 [==============================] - 0s 32ms/step - loss: 5.1297 - mae: 5.5504\n",
            "Epoch 32/100\n",
            "1/1 [==============================] - 0s 27ms/step - loss: 5.1155 - mae: 5.5379\n",
            "Epoch 33/100\n",
            "1/1 [==============================] - 0s 30ms/step - loss: 5.0997 - mae: 5.5239\n",
            "Epoch 34/100\n",
            "1/1 [==============================] - 0s 31ms/step - loss: 5.0820 - mae: 5.5080\n",
            "Epoch 35/100\n",
            "1/1 [==============================] - 0s 38ms/step - loss: 5.0628 - mae: 5.4903\n",
            "Epoch 36/100\n",
            "1/1 [==============================] - 0s 32ms/step - loss: 5.0418 - mae: 5.4705\n",
            "Epoch 37/100\n",
            "1/1 [==============================] - 0s 28ms/step - loss: 5.0187 - mae: 5.4483\n",
            "Epoch 38/100\n",
            "1/1 [==============================] - 0s 32ms/step - loss: 4.9937 - mae: 5.4235\n",
            "Epoch 39/100\n",
            "1/1 [==============================] - 0s 32ms/step - loss: 4.9666 - mae: 5.3953\n",
            "Epoch 40/100\n",
            "1/1 [==============================] - 0s 27ms/step - loss: 4.9377 - mae: 5.3637\n",
            "Epoch 41/100\n",
            "1/1 [==============================] - 0s 25ms/step - loss: 4.9076 - mae: 5.3284\n",
            "Epoch 42/100\n",
            "1/1 [==============================] - 0s 35ms/step - loss: 4.8751 - mae: 5.2890\n",
            "Epoch 43/100\n",
            "1/1 [==============================] - 0s 33ms/step - loss: 4.8416 - mae: 5.2500\n",
            "Epoch 44/100\n",
            "1/1 [==============================] - 0s 28ms/step - loss: 4.8070 - mae: 5.2116\n",
            "Epoch 45/100\n",
            "1/1 [==============================] - 0s 35ms/step - loss: 4.7706 - mae: 5.1722\n",
            "Epoch 46/100\n",
            "1/1 [==============================] - 0s 37ms/step - loss: 4.7321 - mae: 5.1298\n",
            "Epoch 47/100\n",
            "1/1 [==============================] - 0s 31ms/step - loss: 4.6902 - mae: 5.0826\n",
            "Epoch 48/100\n",
            "1/1 [==============================] - 0s 31ms/step - loss: 4.6448 - mae: 5.0351\n",
            "Epoch 49/100\n",
            "1/1 [==============================] - 0s 30ms/step - loss: 4.5943 - mae: 4.9847\n",
            "Epoch 50/100\n",
            "1/1 [==============================] - 0s 27ms/step - loss: 4.5403 - mae: 4.9367\n",
            "Epoch 51/100\n",
            "1/1 [==============================] - 0s 30ms/step - loss: 4.4817 - mae: 4.8832\n",
            "Epoch 52/100\n",
            "1/1 [==============================] - 0s 33ms/step - loss: 4.4182 - mae: 4.8247\n",
            "Epoch 53/100\n",
            "1/1 [==============================] - 0s 28ms/step - loss: 4.3498 - mae: 4.7617\n",
            "Epoch 54/100\n",
            "1/1 [==============================] - 0s 32ms/step - loss: 4.2732 - mae: 4.6895\n",
            "Epoch 55/100\n",
            "1/1 [==============================] - 0s 31ms/step - loss: 4.1895 - mae: 4.6088\n",
            "Epoch 56/100\n",
            "1/1 [==============================] - 0s 35ms/step - loss: 4.1015 - mae: 4.5254\n",
            "Epoch 57/100\n",
            "1/1 [==============================] - 0s 32ms/step - loss: 4.0078 - mae: 4.4384\n",
            "Epoch 58/100\n",
            "1/1 [==============================] - 0s 33ms/step - loss: 3.9079 - mae: 4.3434\n",
            "Epoch 59/100\n",
            "1/1 [==============================] - 0s 31ms/step - loss: 3.7928 - mae: 4.2305\n",
            "Epoch 60/100\n",
            "1/1 [==============================] - 0s 32ms/step - loss: 3.6649 - mae: 4.0991\n",
            "Epoch 61/100\n",
            "1/1 [==============================] - 0s 30ms/step - loss: 3.5185 - mae: 3.9474\n",
            "Epoch 62/100\n",
            "1/1 [==============================] - 0s 27ms/step - loss: 3.3476 - mae: 3.7817\n",
            "Epoch 63/100\n",
            "1/1 [==============================] - 0s 32ms/step - loss: 3.1607 - mae: 3.5883\n",
            "Epoch 64/100\n",
            "1/1 [==============================] - 0s 30ms/step - loss: 2.9646 - mae: 3.3918\n",
            "Epoch 65/100\n",
            "1/1 [==============================] - 0s 32ms/step - loss: 2.7501 - mae: 3.1817\n",
            "Epoch 66/100\n",
            "1/1 [==============================] - 0s 34ms/step - loss: 2.5529 - mae: 2.9816\n",
            "Epoch 67/100\n",
            "1/1 [==============================] - 0s 33ms/step - loss: 2.3767 - mae: 2.7989\n",
            "Epoch 68/100\n",
            "1/1 [==============================] - 0s 30ms/step - loss: 2.2898 - mae: 2.7079\n",
            "Epoch 69/100\n",
            "1/1 [==============================] - 0s 35ms/step - loss: 2.7663 - mae: 3.2419\n",
            "Epoch 70/100\n",
            "1/1 [==============================] - 0s 32ms/step - loss: 5.9388 - mae: 6.4385\n",
            "Epoch 71/100\n",
            "1/1 [==============================] - 0s 35ms/step - loss: 2.1580 - mae: 2.5833\n",
            "Epoch 72/100\n",
            "1/1 [==============================] - 0s 31ms/step - loss: 1.9673 - mae: 2.4149\n",
            "Epoch 73/100\n",
            "1/1 [==============================] - 0s 30ms/step - loss: 2.8894 - mae: 3.3793\n",
            "Epoch 74/100\n",
            "1/1 [==============================] - 0s 29ms/step - loss: 9.0573 - mae: 9.5573\n",
            "Epoch 75/100\n",
            "1/1 [==============================] - 0s 31ms/step - loss: 2.9241 - mae: 3.3677\n",
            "Epoch 76/100\n",
            "1/1 [==============================] - 0s 35ms/step - loss: 3.1433 - mae: 3.6049\n",
            "Epoch 77/100\n",
            "1/1 [==============================] - 0s 30ms/step - loss: 10.8318 - mae: 11.3318\n",
            "Epoch 78/100\n",
            "1/1 [==============================] - 0s 34ms/step - loss: 2.2293 - mae: 2.6577\n",
            "Epoch 79/100\n",
            "1/1 [==============================] - 0s 30ms/step - loss: 13.6434 - mae: 14.1434\n",
            "Epoch 80/100\n",
            "1/1 [==============================] - 0s 33ms/step - loss: 5.2497 - mae: 5.7168\n",
            "Epoch 81/100\n",
            "1/1 [==============================] - 0s 44ms/step - loss: 6.0429 - mae: 6.5117\n",
            "Epoch 82/100\n",
            "1/1 [==============================] - 0s 34ms/step - loss: 13.6709 - mae: 14.1709\n",
            "Epoch 83/100\n",
            "1/1 [==============================] - 0s 30ms/step - loss: 4.5200 - mae: 5.0118\n",
            "Epoch 84/100\n",
            "1/1 [==============================] - 0s 33ms/step - loss: 20.7506 - mae: 21.2506\n",
            "Epoch 85/100\n",
            "1/1 [==============================] - 0s 33ms/step - loss: 9.1603 - mae: 9.6603\n",
            "Epoch 86/100\n",
            "1/1 [==============================] - 0s 32ms/step - loss: 36.1094 - mae: 36.6094\n",
            "Epoch 87/100\n",
            "1/1 [==============================] - 0s 34ms/step - loss: 31.3885 - mae: 31.8885\n",
            "Epoch 88/100\n",
            "1/1 [==============================] - 0s 33ms/step - loss: 9.9266 - mae: 10.4121\n",
            "Epoch 89/100\n",
            "1/1 [==============================] - 0s 33ms/step - loss: 37.8227 - mae: 38.3227\n",
            "Epoch 90/100\n",
            "1/1 [==============================] - 0s 31ms/step - loss: 18.1883 - mae: 18.6883\n",
            "Epoch 91/100\n",
            "1/1 [==============================] - 0s 28ms/step - loss: 45.0797 - mae: 45.5797\n",
            "Epoch 92/100\n",
            "1/1 [==============================] - 0s 30ms/step - loss: 50.4273 - mae: 50.9273\n",
            "Epoch 93/100\n",
            "1/1 [==============================] - 0s 30ms/step - loss: 14.7316 - mae: 15.2316\n",
            "Epoch 94/100\n",
            "1/1 [==============================] - 0s 39ms/step - loss: 66.7292 - mae: 67.2292\n",
            "Epoch 95/100\n",
            "1/1 [==============================] - 0s 29ms/step - loss: 54.6109 - mae: 55.1109\n",
            "Epoch 96/100\n",
            "1/1 [==============================] - 0s 30ms/step - loss: 38.5427 - mae: 39.0274\n",
            "Epoch 97/100\n",
            "1/1 [==============================] - 0s 29ms/step - loss: 42.4395 - mae: 42.9395\n",
            "Epoch 98/100\n",
            "1/1 [==============================] - 0s 31ms/step - loss: 42.4852 - mae: 42.9852\n",
            "Epoch 99/100\n",
            "1/1 [==============================] - 0s 28ms/step - loss: 13.7984 - mae: 14.2984\n",
            "Epoch 100/100\n",
            "1/1 [==============================] - 0s 31ms/step - loss: 18.6238 - mae: 19.1082\n"
          ],
          "name": "stdout"
        }
      ]
    },
    {
      "cell_type": "code",
      "metadata": {
        "id": "pyTHDYl9aEBR",
        "colab_type": "code",
        "colab": {
          "base_uri": "https://localhost:8080/",
          "height": 290
        },
        "outputId": "1eeeb5bb-3cd0-4ca5-89b9-324c9201b405"
      },
      "source": [
        "plt.semilogx(history.history[\"lr\"], history.history[\"loss\"])\n",
        "plt.axis([1e-8, 1e-4, 0, 60])"
      ],
      "execution_count": 17,
      "outputs": [
        {
          "output_type": "execute_result",
          "data": {
            "text/plain": [
              "(1e-08, 0.0001, 0.0, 60.0)"
            ]
          },
          "metadata": {
            "tags": []
          },
          "execution_count": 17
        },
        {
          "output_type": "display_data",
          "data": {
            "image/png": "[encoded data removed]",
            "text/plain": [
              "<Figure size 432x288 with 1 Axes>"
            ]
          },
          "metadata": {
            "tags": []
          }
        }
      ]
    },
    {
      "cell_type": "code",
      "metadata": {
        "id": "6vVwUQ_uaEBX",
        "colab_type": "code",
        "colab": {
          "base_uri": "https://localhost:8080/",
          "height": 1000
        },
        "outputId": "ff7ec2e4-5d06-4c21-957a-3d0231c34199"
      },
      "source": [
        "tf.keras.backend.clear_session()\n",
        "tf.random.set_seed(3)\n",
        "np.random.seed(3)\n",
        "train_set = windowed_dataset(x_train, window_size=8, batch_size=32, shuffle_buffer=shuffle_buffer_size)\n",
        "model = tf.keras.models.Sequential([\n",
        "  tf.keras.layers.Conv1D(filters=60, kernel_size=5,\n",
        "                      strides=1, padding=\"causal\",\n",
        "                      activation=\"relu\",\n",
        "                      input_shape=[None, 1]),\n",
        "  tf.keras.layers.LSTM(60, return_sequences=True),\n",
        "  tf.keras.layers.LSTM(60, return_sequences=True),\n",
        "  tf.keras.layers.Dense(30, activation=\"relu\"),\n",
        "  tf.keras.layers.Dense(10, activation=\"relu\"),\n",
        "  tf.keras.layers.Dense(1),\n",
        "  tf.keras.layers.Lambda(lambda x: x * 400)\n",
        "])\n",
        "\n",
        "\n",
        "optimizer = tf.keras.optimizers.SGD(lr=1e-5, momentum=0.9)\n",
        "model.compile(loss=tf.keras.losses.Huber(),\n",
        "              optimizer=optimizer,\n",
        "              metrics=[\"mae\"])\n",
        "history = model.fit(train_set,epochs=150)"
      ],
      "execution_count": 18,
      "outputs": [
        {
          "output_type": "stream",
          "text": [
            "Epoch 1/150\n",
            "1/1 [==============================] - 3s 3s/step - loss: 12.9119 - mae: 13.3608\n",
            "Epoch 2/150\n",
            "1/1 [==============================] - 0s 31ms/step - loss: 11.0445 - mae: 11.5307\n",
            "Epoch 3/150\n",
            "1/1 [==============================] - 0s 30ms/step - loss: 9.9845 - mae: 10.4756\n",
            "Epoch 4/150\n",
            "1/1 [==============================] - 0s 30ms/step - loss: 8.9618 - mae: 9.4585\n",
            "Epoch 5/150\n",
            "1/1 [==============================] - 0s 30ms/step - loss: 8.0929 - mae: 8.5679\n",
            "Epoch 6/150\n",
            "1/1 [==============================] - 0s 32ms/step - loss: 7.1807 - mae: 7.6727\n",
            "Epoch 7/150\n",
            "1/1 [==============================] - 0s 30ms/step - loss: 5.8342 - mae: 6.3223\n",
            "Epoch 8/150\n",
            "1/1 [==============================] - 0s 34ms/step - loss: 4.4309 - mae: 4.8949\n",
            "Epoch 9/150\n",
            "1/1 [==============================] - 0s 34ms/step - loss: 3.9051 - mae: 4.3039\n",
            "Epoch 10/150\n",
            "1/1 [==============================] - 0s 34ms/step - loss: 3.7449 - mae: 4.2108\n",
            "Epoch 11/150\n",
            "1/1 [==============================] - 0s 33ms/step - loss: 2.7562 - mae: 3.1724\n",
            "Epoch 12/150\n",
            "1/1 [==============================] - 0s 36ms/step - loss: 2.4884 - mae: 2.9380\n",
            "Epoch 13/150\n",
            "1/1 [==============================] - 0s 35ms/step - loss: 2.6373 - mae: 3.1136\n",
            "Epoch 14/150\n",
            "1/1 [==============================] - 0s 36ms/step - loss: 2.2383 - mae: 2.6794\n",
            "Epoch 15/150\n",
            "1/1 [==============================] - 0s 36ms/step - loss: 1.9637 - mae: 2.4156\n",
            "Epoch 16/150\n",
            "1/1 [==============================] - 0s 38ms/step - loss: 2.3127 - mae: 2.7891\n",
            "Epoch 17/150\n",
            "1/1 [==============================] - 0s 35ms/step - loss: 2.4685 - mae: 2.9360\n",
            "Epoch 18/150\n",
            "1/1 [==============================] - 0s 37ms/step - loss: 2.1680 - mae: 2.6350\n",
            "Epoch 19/150\n",
            "1/1 [==============================] - 0s 37ms/step - loss: 2.0334 - mae: 2.4425\n",
            "Epoch 20/150\n",
            "1/1 [==============================] - 0s 33ms/step - loss: 2.0981 - mae: 2.5466\n",
            "Epoch 21/150\n",
            "1/1 [==============================] - 0s 41ms/step - loss: 1.7374 - mae: 2.1625\n",
            "Epoch 22/150\n",
            "1/1 [==============================] - 0s 36ms/step - loss: 1.5882 - mae: 2.0026\n",
            "Epoch 23/150\n",
            "1/1 [==============================] - 0s 38ms/step - loss: 1.6839 - mae: 2.0931\n",
            "Epoch 24/150\n",
            "1/1 [==============================] - 0s 39ms/step - loss: 1.4332 - mae: 1.8443\n",
            "Epoch 25/150\n",
            "1/1 [==============================] - 0s 41ms/step - loss: 1.4576 - mae: 1.8892\n",
            "Epoch 26/150\n",
            "1/1 [==============================] - 0s 37ms/step - loss: 1.5788 - mae: 2.0299\n",
            "Epoch 27/150\n",
            "1/1 [==============================] - 0s 35ms/step - loss: 1.4978 - mae: 1.9347\n",
            "Epoch 28/150\n",
            "1/1 [==============================] - 0s 33ms/step - loss: 1.4684 - mae: 1.9224\n",
            "Epoch 29/150\n",
            "1/1 [==============================] - 0s 38ms/step - loss: 1.5247 - mae: 1.9583\n",
            "Epoch 30/150\n",
            "1/1 [==============================] - 0s 36ms/step - loss: 1.3805 - mae: 1.8126\n",
            "Epoch 31/150\n",
            "1/1 [==============================] - 0s 37ms/step - loss: 1.2682 - mae: 1.6925\n",
            "Epoch 32/150\n",
            "1/1 [==============================] - 0s 45ms/step - loss: 1.2677 - mae: 1.7119\n",
            "Epoch 33/150\n",
            "1/1 [==============================] - 0s 38ms/step - loss: 1.1749 - mae: 1.5690\n",
            "Epoch 34/150\n",
            "1/1 [==============================] - 0s 33ms/step - loss: 1.1628 - mae: 1.5669\n",
            "Epoch 35/150\n",
            "1/1 [==============================] - 0s 31ms/step - loss: 1.2048 - mae: 1.6045\n",
            "Epoch 36/150\n",
            "1/1 [==============================] - 0s 36ms/step - loss: 1.1425 - mae: 1.5342\n",
            "Epoch 37/150\n",
            "1/1 [==============================] - 0s 38ms/step - loss: 1.1561 - mae: 1.5428\n",
            "Epoch 38/150\n",
            "1/1 [==============================] - 0s 37ms/step - loss: 1.1231 - mae: 1.5100\n",
            "Epoch 39/150\n",
            "1/1 [==============================] - 0s 32ms/step - loss: 1.0573 - mae: 1.4426\n",
            "Epoch 40/150\n",
            "1/1 [==============================] - 0s 33ms/step - loss: 1.0694 - mae: 1.4474\n",
            "Epoch 41/150\n",
            "1/1 [==============================] - 0s 34ms/step - loss: 1.0235 - mae: 1.3860\n",
            "Epoch 42/150\n",
            "1/1 [==============================] - 0s 37ms/step - loss: 1.0210 - mae: 1.4242\n",
            "Epoch 43/150\n",
            "1/1 [==============================] - 0s 35ms/step - loss: 1.0336 - mae: 1.4565\n",
            "Epoch 44/150\n",
            "1/1 [==============================] - 0s 37ms/step - loss: 0.9962 - mae: 1.3647\n",
            "Epoch 45/150\n",
            "1/1 [==============================] - 0s 37ms/step - loss: 0.9964 - mae: 1.3585\n",
            "Epoch 46/150\n",
            "1/1 [==============================] - 0s 35ms/step - loss: 0.9701 - mae: 1.3239\n",
            "Epoch 47/150\n",
            "1/1 [==============================] - 0s 34ms/step - loss: 0.9451 - mae: 1.3220\n",
            "Epoch 48/150\n",
            "1/1 [==============================] - 0s 33ms/step - loss: 0.9522 - mae: 1.3454\n",
            "Epoch 49/150\n",
            "1/1 [==============================] - 0s 35ms/step - loss: 0.9319 - mae: 1.3233\n",
            "Epoch 50/150\n",
            "1/1 [==============================] - 0s 34ms/step - loss: 0.9380 - mae: 1.3150\n",
            "Epoch 51/150\n",
            "1/1 [==============================] - 0s 37ms/step - loss: 0.9297 - mae: 1.3087\n",
            "Epoch 52/150\n",
            "1/1 [==============================] - 0s 35ms/step - loss: 0.9140 - mae: 1.3077\n",
            "Epoch 53/150\n",
            "1/1 [==============================] - 0s 37ms/step - loss: 0.9141 - mae: 1.3091\n",
            "Epoch 54/150\n",
            "1/1 [==============================] - 0s 34ms/step - loss: 0.8960 - mae: 1.2773\n",
            "Epoch 55/150\n",
            "1/1 [==============================] - 0s 33ms/step - loss: 0.8954 - mae: 1.2711\n",
            "Epoch 56/150\n",
            "1/1 [==============================] - 0s 34ms/step - loss: 0.8918 - mae: 1.2705\n",
            "Epoch 57/150\n",
            "1/1 [==============================] - 0s 33ms/step - loss: 0.8841 - mae: 1.2591\n",
            "Epoch 58/150\n",
            "1/1 [==============================] - 0s 33ms/step - loss: 0.8853 - mae: 1.2646\n",
            "Epoch 59/150\n",
            "1/1 [==============================] - 0s 32ms/step - loss: 0.8737 - mae: 1.2493\n",
            "Epoch 60/150\n",
            "1/1 [==============================] - 0s 33ms/step - loss: 0.8677 - mae: 1.2484\n",
            "Epoch 61/150\n",
            "1/1 [==============================] - 0s 33ms/step - loss: 0.8606 - mae: 1.2410\n",
            "Epoch 62/150\n",
            "1/1 [==============================] - 0s 36ms/step - loss: 0.8504 - mae: 1.2304\n",
            "Epoch 63/150\n",
            "1/1 [==============================] - 0s 34ms/step - loss: 0.8479 - mae: 1.2297\n",
            "Epoch 64/150\n",
            "1/1 [==============================] - 0s 35ms/step - loss: 0.8392 - mae: 1.2211\n",
            "Epoch 65/150\n",
            "1/1 [==============================] - 0s 35ms/step - loss: 0.8349 - mae: 1.2187\n",
            "Epoch 66/150\n",
            "1/1 [==============================] - 0s 37ms/step - loss: 0.8287 - mae: 1.2125\n",
            "Epoch 67/150\n",
            "1/1 [==============================] - 0s 33ms/step - loss: 0.8198 - mae: 1.2003\n",
            "Epoch 68/150\n",
            "1/1 [==============================] - 0s 33ms/step - loss: 0.8148 - mae: 1.1916\n",
            "Epoch 69/150\n",
            "1/1 [==============================] - 0s 33ms/step - loss: 0.8067 - mae: 1.1844\n",
            "Epoch 70/150\n",
            "1/1 [==============================] - 0s 36ms/step - loss: 0.8024 - mae: 1.1818\n",
            "Epoch 71/150\n",
            "1/1 [==============================] - 0s 37ms/step - loss: 0.7980 - mae: 1.1773\n",
            "Epoch 72/150\n",
            "1/1 [==============================] - 0s 39ms/step - loss: 0.7925 - mae: 1.1670\n",
            "Epoch 73/150\n",
            "1/1 [==============================] - 0s 37ms/step - loss: 0.7888 - mae: 1.1593\n",
            "Epoch 74/150\n",
            "1/1 [==============================] - 0s 36ms/step - loss: 0.7827 - mae: 1.1563\n",
            "Epoch 75/150\n",
            "1/1 [==============================] - 0s 34ms/step - loss: 0.7786 - mae: 1.1544\n",
            "Epoch 76/150\n",
            "1/1 [==============================] - 0s 38ms/step - loss: 0.7739 - mae: 1.1487\n",
            "Epoch 77/150\n",
            "1/1 [==============================] - 0s 34ms/step - loss: 0.7691 - mae: 1.1407\n",
            "Epoch 78/150\n",
            "1/1 [==============================] - 0s 44ms/step - loss: 0.7655 - mae: 1.1354\n",
            "Epoch 79/150\n",
            "1/1 [==============================] - 0s 30ms/step - loss: 0.7608 - mae: 1.1315\n",
            "Epoch 80/150\n",
            "1/1 [==============================] - 0s 40ms/step - loss: 0.7566 - mae: 1.1280\n",
            "Epoch 81/150\n",
            "1/1 [==============================] - 0s 36ms/step - loss: 0.7522 - mae: 1.1225\n",
            "Epoch 82/150\n",
            "1/1 [==============================] - 0s 43ms/step - loss: 0.7475 - mae: 1.1154\n",
            "Epoch 83/150\n",
            "1/1 [==============================] - 0s 34ms/step - loss: 0.7438 - mae: 1.1087\n",
            "Epoch 84/150\n",
            "1/1 [==============================] - 0s 36ms/step - loss: 0.7395 - mae: 1.1040\n",
            "Epoch 85/150\n",
            "1/1 [==============================] - 0s 35ms/step - loss: 0.7353 - mae: 1.1004\n",
            "Epoch 86/150\n",
            "1/1 [==============================] - 0s 41ms/step - loss: 0.7313 - mae: 1.0959\n",
            "Epoch 87/150\n",
            "1/1 [==============================] - 0s 41ms/step - loss: 0.7266 - mae: 1.0882\n",
            "Epoch 88/150\n",
            "1/1 [==============================] - 0s 39ms/step - loss: 0.7224 - mae: 1.0817\n",
            "Epoch 89/150\n",
            "1/1 [==============================] - 0s 31ms/step - loss: 0.7178 - mae: 1.0768\n",
            "Epoch 90/150\n",
            "1/1 [==============================] - 0s 38ms/step - loss: 0.7134 - mae: 1.0737\n",
            "Epoch 91/150\n",
            "1/1 [==============================] - 0s 38ms/step - loss: 0.7090 - mae: 1.0692\n",
            "Epoch 92/150\n",
            "1/1 [==============================] - 0s 43ms/step - loss: 0.7045 - mae: 1.0624\n",
            "Epoch 93/150\n",
            "1/1 [==============================] - 0s 35ms/step - loss: 0.7002 - mae: 1.0579\n",
            "Epoch 94/150\n",
            "1/1 [==============================] - 0s 33ms/step - loss: 0.6957 - mae: 1.0535\n",
            "Epoch 95/150\n",
            "1/1 [==============================] - 0s 32ms/step - loss: 0.6914 - mae: 1.0501\n",
            "Epoch 96/150\n",
            "1/1 [==============================] - 0s 34ms/step - loss: 0.6873 - mae: 1.0459\n",
            "Epoch 97/150\n",
            "1/1 [==============================] - 0s 39ms/step - loss: 0.6834 - mae: 1.0413\n",
            "Epoch 98/150\n",
            "1/1 [==============================] - 0s 36ms/step - loss: 0.6812 - mae: 1.0390\n",
            "Epoch 99/150\n",
            "1/1 [==============================] - 0s 36ms/step - loss: 0.6790 - mae: 1.0373\n",
            "Epoch 100/150\n",
            "1/1 [==============================] - 0s 37ms/step - loss: 0.6770 - mae: 1.0356\n",
            "Epoch 101/150\n",
            "1/1 [==============================] - 0s 36ms/step - loss: 0.6752 - mae: 1.0343\n",
            "Epoch 102/150\n",
            "1/1 [==============================] - 0s 39ms/step - loss: 0.6735 - mae: 1.0332\n",
            "Epoch 103/150\n",
            "1/1 [==============================] - 0s 41ms/step - loss: 0.6720 - mae: 1.0323\n",
            "Epoch 104/150\n",
            "1/1 [==============================] - 0s 37ms/step - loss: 0.6704 - mae: 1.0315\n",
            "Epoch 105/150\n",
            "1/1 [==============================] - 0s 37ms/step - loss: 0.6689 - mae: 1.0307\n",
            "Epoch 106/150\n",
            "1/1 [==============================] - 0s 33ms/step - loss: 0.6673 - mae: 1.0298\n",
            "Epoch 107/150\n",
            "1/1 [==============================] - 0s 35ms/step - loss: 0.6658 - mae: 1.0289\n",
            "Epoch 108/150\n",
            "1/1 [==============================] - 0s 34ms/step - loss: 0.6643 - mae: 1.0281\n",
            "Epoch 109/150\n",
            "1/1 [==============================] - 0s 34ms/step - loss: 0.6629 - mae: 1.0268\n",
            "Epoch 110/150\n",
            "1/1 [==============================] - 0s 34ms/step - loss: 0.6616 - mae: 1.0257\n",
            "Epoch 111/150\n",
            "1/1 [==============================] - 0s 40ms/step - loss: 0.6602 - mae: 1.0246\n",
            "Epoch 112/150\n",
            "1/1 [==============================] - 0s 35ms/step - loss: 0.6590 - mae: 1.0236\n",
            "Epoch 113/150\n",
            "1/1 [==============================] - 0s 34ms/step - loss: 0.6576 - mae: 1.0221\n",
            "Epoch 114/150\n",
            "1/1 [==============================] - 0s 32ms/step - loss: 0.6563 - mae: 1.0205\n",
            "Epoch 115/150\n",
            "1/1 [==============================] - 0s 32ms/step - loss: 0.6550 - mae: 1.0191\n",
            "Epoch 116/150\n",
            "1/1 [==============================] - 0s 34ms/step - loss: 0.6537 - mae: 1.0180\n",
            "Epoch 117/150\n",
            "1/1 [==============================] - 0s 34ms/step - loss: 0.6525 - mae: 1.0171\n",
            "Epoch 118/150\n",
            "1/1 [==============================] - 0s 36ms/step - loss: 0.6513 - mae: 1.0160\n",
            "Epoch 119/150\n",
            "1/1 [==============================] - 0s 36ms/step - loss: 0.6501 - mae: 1.0148\n",
            "Epoch 120/150\n",
            "1/1 [==============================] - 0s 49ms/step - loss: 0.6489 - mae: 1.0136\n",
            "Epoch 121/150\n",
            "1/1 [==============================] - 0s 38ms/step - loss: 0.6478 - mae: 1.0128\n",
            "Epoch 122/150\n",
            "1/1 [==============================] - 0s 40ms/step - loss: 0.6467 - mae: 1.0121\n",
            "Epoch 123/150\n",
            "1/1 [==============================] - 0s 31ms/step - loss: 0.6456 - mae: 1.0112\n",
            "Epoch 124/150\n",
            "1/1 [==============================] - 0s 38ms/step - loss: 0.6446 - mae: 1.0103\n",
            "Epoch 125/150\n",
            "1/1 [==============================] - 0s 30ms/step - loss: 0.6435 - mae: 1.0096\n",
            "Epoch 126/150\n",
            "1/1 [==============================] - 0s 32ms/step - loss: 0.6424 - mae: 1.0092\n",
            "Epoch 127/150\n",
            "1/1 [==============================] - 0s 31ms/step - loss: 0.6414 - mae: 1.0088\n",
            "Epoch 128/150\n",
            "1/1 [==============================] - 0s 36ms/step - loss: 0.6402 - mae: 1.0082\n",
            "Epoch 129/150\n",
            "1/1 [==============================] - 0s 40ms/step - loss: 0.6391 - mae: 1.0075\n",
            "Epoch 130/150\n",
            "1/1 [==============================] - 0s 38ms/step - loss: 0.6381 - mae: 1.0070\n",
            "Epoch 131/150\n",
            "1/1 [==============================] - 0s 40ms/step - loss: 0.6372 - mae: 1.0066\n",
            "Epoch 132/150\n",
            "1/1 [==============================] - 0s 35ms/step - loss: 0.6361 - mae: 1.0055\n",
            "Epoch 133/150\n",
            "1/1 [==============================] - 0s 35ms/step - loss: 0.6350 - mae: 1.0040\n",
            "Epoch 134/150\n",
            "1/1 [==============================] - 0s 35ms/step - loss: 0.6339 - mae: 1.0027\n",
            "Epoch 135/150\n",
            "1/1 [==============================] - 0s 36ms/step - loss: 0.6330 - mae: 1.0016\n",
            "Epoch 136/150\n",
            "1/1 [==============================] - 0s 34ms/step - loss: 0.6321 - mae: 1.0003\n",
            "Epoch 137/150\n",
            "1/1 [==============================] - 0s 33ms/step - loss: 0.6312 - mae: 0.9988\n",
            "Epoch 138/150\n",
            "1/1 [==============================] - 0s 36ms/step - loss: 0.6303 - mae: 0.9973\n",
            "Epoch 139/150\n",
            "1/1 [==============================] - 0s 34ms/step - loss: 0.6293 - mae: 0.9960\n",
            "Epoch 140/150\n",
            "1/1 [==============================] - 0s 34ms/step - loss: 0.6284 - mae: 0.9948\n",
            "Epoch 141/150\n",
            "1/1 [==============================] - 0s 34ms/step - loss: 0.6275 - mae: 0.9937\n",
            "Epoch 142/150\n",
            "1/1 [==============================] - 0s 32ms/step - loss: 0.6265 - mae: 0.9925\n",
            "Epoch 143/150\n",
            "1/1 [==============================] - 0s 36ms/step - loss: 0.6256 - mae: 0.9915\n",
            "Epoch 144/150\n",
            "1/1 [==============================] - 0s 34ms/step - loss: 0.6246 - mae: 0.9908\n",
            "Epoch 145/150\n",
            "1/1 [==============================] - 0s 35ms/step - loss: 0.6237 - mae: 0.9901\n",
            "Epoch 146/150\n",
            "1/1 [==============================] - 0s 32ms/step - loss: 0.6229 - mae: 0.9893\n",
            "Epoch 147/150\n",
            "1/1 [==============================] - 0s 34ms/step - loss: 0.6220 - mae: 0.9886\n",
            "Epoch 148/150\n",
            "1/1 [==============================] - 0s 33ms/step - loss: 0.6212 - mae: 0.9879\n",
            "Epoch 149/150\n",
            "1/1 [==============================] - 0s 40ms/step - loss: 0.6204 - mae: 0.9872\n",
            "Epoch 150/150\n",
            "1/1 [==============================] - 0s 39ms/step - loss: 0.6195 - mae: 0.9866\n"
          ],
          "name": "stdout"
        }
      ]
    },
    {
      "cell_type": "code",
      "metadata": {
        "id": "T0Ds87ksaEBb",
        "colab_type": "code",
        "colab": {}
      },
      "source": [
        "rnn_forecast = model_forecast(model, series[..., np.newaxis], window_size)\n",
        "rnn_forecast = rnn_forecast[split_time - window_size:-1, -1, 0]"
      ],
      "execution_count": 0,
      "outputs": []
    },
    {
      "cell_type": "code",
      "metadata": {
        "id": "cr723wJ_aEBg",
        "colab_type": "code",
        "colab": {
          "base_uri": "https://localhost:8080/",
          "height": 388
        },
        "outputId": "b49ee2d9-4d0b-4339-ad28-2a65c60f3f99"
      },
      "source": [
        "plt.figure(figsize=(10, 6))\n",
        "plot_series(time_valid, x_valid)\n",
        "plot_series(time_valid, rnn_forecast)"
      ],
      "execution_count": 20,
      "outputs": [
        {
          "output_type": "display_data",
          "data": {
            "image/png": "[encoded data removed]",
            "text/plain": [
              "<Figure size 720x432 with 1 Axes>"
            ]
          },
          "metadata": {
            "tags": []
          }
        }
      ]
    },
    {
      "cell_type": "code",
      "metadata": {
        "id": "cRnaGSXHaEBk",
        "colab_type": "code",
        "colab": {
          "base_uri": "https://localhost:8080/",
          "height": 34
        },
        "outputId": "91b8f83d-f2be-44b3-f762-5966a0ae96e4"
      },
      "source": [
        "tf.keras.metrics.mean_absolute_error(x_valid, rnn_forecast).numpy()"
      ],
      "execution_count": 21,
      "outputs": [
        {
          "output_type": "execute_result",
          "data": {
            "text/plain": [
              "154.04181"
            ]
          },
          "metadata": {
            "tags": []
          },
          "execution_count": 21
        }
      ]
    },
    {
      "cell_type": "code",
      "metadata": {
        "id": "4wGwVXISaEBo",
        "colab_type": "code",
        "colab": {
          "base_uri": "https://localhost:8080/",
          "height": 34
        },
        "outputId": "344805b6-1700-4915-deb7-e2528d3f3c09"
      },
      "source": [
        "print(rnn_forecast)"
      ],
      "execution_count": 22,
      "outputs": [
        {
          "output_type": "stream",
          "text": [
            "[49.642105 46.439224 42.42857  37.918396 35.362686]\n"
          ],
          "name": "stdout"
        }
      ]
    },
    {
      "cell_type": "code",
      "metadata": {
        "id": "7Ibe7BofaEBs",
        "colab_type": "code",
        "colab": {}
      },
      "source": [
        ""
      ],
      "execution_count": 0,
      "outputs": []
    }
  ]
}